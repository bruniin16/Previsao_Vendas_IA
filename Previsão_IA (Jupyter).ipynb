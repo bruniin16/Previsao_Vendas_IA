{
 "cells": [
  {
   "cell_type": "code",
   "execution_count": null,
   "metadata": {},
   "outputs": [],
   "source": [
    "import pandas as pd\n",
    "from sklearn.model_selection import train_test_split\n",
    "from sklearn.ensemble import RandomForestRegressor\n",
    "from sklearn.linear_model import LinearRegression\n",
    "from sklearn import metrics"
   ]
  },
  {
   "cell_type": "code",
   "execution_count": null,
   "metadata": {},
   "outputs": [],
   "source": [
    "df = pd.read_csv(r\".\\advertising.csv\")\n",
    "\n",
    "x = df.drop(\"Vendas\", axis=1)\n",
    "y = df[\"Vendas\"]"
   ]
  },
  {
   "cell_type": "code",
   "execution_count": null,
   "metadata": {},
   "outputs": [],
   "source": [
    "ia1 = RandomForestRegressor()\n",
    "ia2 = LinearRegression()\n",
    "\n",
    "x_treino, x_teste, y_treino, y_teste = train_test_split(x, y, test_size=0.3, random_state=1)\n",
    "ia1.fit(x_treino,y_treino)\n",
    "ia2.fit(x_treino,y_treino)\n",
    "\n",
    "result_ia1 = ia1.predict(x_teste)\n",
    "result_ia2 = ia2.predict(x_teste)\n",
    "\n",
    "porcentagem_ia1 = metrics.r2_score(y_teste, result_ia1)\n",
    "porcentagem_ia2 = metrics.r2_score(y_teste, result_ia2)\n",
    "\n",
    "print(f\"Certeza da IA1: {porcentagem_ia1:.2%}\")\n",
    "print(f\"Certeza da IA2: {porcentagem_ia2:.2%}\")"
   ]
  },
  {
   "cell_type": "code",
   "execution_count": null,
   "metadata": {},
   "outputs": [],
   "source": [
    "val_prox_mes = pd.read_csv(r\".\\novos.csv\")\n",
    "previsao = ia1.predict(val_prox_mes)\n",
    "val_prox_mes[\"Vendas\"] = previsao\n",
    "val_prox_mes.to_excel(r\".\\vendasnovas.xlsx\", index=False)\n",
    "print(val_prox_mes)"
   ]
  }
 ],
 "metadata": {
  "kernelspec": {
   "display_name": "Python 3.10.5 64-bit",
   "language": "python",
   "name": "python3"
  },
  "language_info": {
   "name": "python",
   "version": "3.10.5"
  },
  "orig_nbformat": 4,
  "vscode": {
   "interpreter": {
    "hash": "ed3943dba37f3ed717092a780584c496f36863d6c99891baccd6632ecc02cdda"
   }
  }
 },
 "nbformat": 4,
 "nbformat_minor": 2
}
